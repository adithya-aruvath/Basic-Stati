{
 "cells": [
  {
   "cell_type": "markdown",
   "id": "3a684dec-dce3-48c3-9096-29186160078c",
   "metadata": {},
   "source": [
    "## 1.A manufacturer of print-heads for personal computers is interested in estimating the mean durability of their print-heads in terms of the number of characters printed before failure. To assess this, the manufacturer conducts a study on a small sample of print-heads due to the destructive nature of the testing process."
   ]
  },
  {
   "cell_type": "markdown",
   "id": "c6265227-dc4e-40cc-9cb2-d6a45b753786",
   "metadata": {},
   "source": [
    "### A total of 15 print-heads were randomly selected and tested until failure. The durability of each print-head (in millions of characters) was recorded as follows:\n",
    "1.13, 1.55, 1.43, 0.92, 1.25, 1.36, 1.32, 0.85, 1.07, 1.48, 1.20, 1.33, 1.18, 1.22, 1.29\n"
   ]
  },
  {
   "cell_type": "code",
   "execution_count": null,
   "id": "0ccbec46-19f1-4a68-bc67-09e6a6154793",
   "metadata": {},
   "outputs": [],
   "source": [
    "## a. Build 99% Confidence Interval Using Sample Standard Deviation"
   ]
  },
  {
   "cell_type": "code",
   "execution_count": 1,
   "id": "aa9a9fcd-5b18-46c0-b425-d513cbffabb2",
   "metadata": {},
   "outputs": [],
   "source": [
    "data=[1.13,1.55,1.43,0.92,1.25,1.36,1.32,0.85,1.07,1.48,1.20,1.33,1.18,1.22,1.29]"
   ]
  },
  {
   "cell_type": "code",
   "execution_count": 3,
   "id": "2996188c-f0a7-41e5-9429-b7b98c62a375",
   "metadata": {},
   "outputs": [
    {
     "data": {
      "text/plain": [
       "[1.13,\n",
       " 1.55,\n",
       " 1.43,\n",
       " 0.92,\n",
       " 1.25,\n",
       " 1.36,\n",
       " 1.32,\n",
       " 0.85,\n",
       " 1.07,\n",
       " 1.48,\n",
       " 1.2,\n",
       " 1.33,\n",
       " 1.18,\n",
       " 1.22,\n",
       " 1.29]"
      ]
     },
     "execution_count": 3,
     "metadata": {},
     "output_type": "execute_result"
    }
   ],
   "source": [
    "data"
   ]
  },
  {
   "cell_type": "code",
   "execution_count": 7,
   "id": "a2b56d67-8f50-44c7-85e3-2cf73f7677d9",
   "metadata": {},
   "outputs": [],
   "source": [
    "import scipy.stats as stats\n",
    "import numpy as np"
   ]
  },
  {
   "cell_type": "code",
   "execution_count": 29,
   "id": "a29ea7b0-46a6-44cc-9f4d-be734937246b",
   "metadata": {},
   "outputs": [],
   "source": [
    "s=np.std(data)"
   ]
  },
  {
   "cell_type": "code",
   "execution_count": 31,
   "id": "5082b938-b827-47dc-8d4a-f11c8e8c7b7d",
   "metadata": {},
   "outputs": [
    {
     "data": {
      "text/plain": [
       "0.18661427836285438"
      ]
     },
     "execution_count": 31,
     "metadata": {},
     "output_type": "execute_result"
    }
   ],
   "source": [
    "s"
   ]
  },
  {
   "cell_type": "code",
   "execution_count": 33,
   "id": "eed6769a-dabc-4586-bf6e-12386b0eee01",
   "metadata": {},
   "outputs": [],
   "source": [
    "x_bar=np.mean(data)"
   ]
  },
  {
   "cell_type": "code",
   "execution_count": 35,
   "id": "6b76fc55-fc71-4db9-a209-3e467e184a1c",
   "metadata": {},
   "outputs": [
    {
     "data": {
      "text/plain": [
       "1.2386666666666666"
      ]
     },
     "execution_count": 35,
     "metadata": {},
     "output_type": "execute_result"
    }
   ],
   "source": [
    "x_bar"
   ]
  },
  {
   "cell_type": "code",
   "execution_count": 45,
   "id": "072bc91c-6430-4c9a-a5f4-28ad1f84bc21",
   "metadata": {},
   "outputs": [],
   "source": [
    "## given data\n",
    "n=15\n",
    "## CI=0.99, alpha=0.01"
   ]
  },
  {
   "cell_type": "code",
   "execution_count": 47,
   "id": "0421dd81-1eed-4b2c-9c4a-68d17b1b8554",
   "metadata": {},
   "outputs": [],
   "source": [
    "t_critical=stats.t.ppf(0.995,14)"
   ]
  },
  {
   "cell_type": "code",
   "execution_count": 49,
   "id": "77f47eec-54ec-4949-8005-6cc1c9d953dd",
   "metadata": {},
   "outputs": [
    {
     "data": {
      "text/plain": [
       "2.976842734370834"
      ]
     },
     "execution_count": 49,
     "metadata": {},
     "output_type": "execute_result"
    }
   ],
   "source": [
    "t_critical"
   ]
  },
  {
   "cell_type": "code",
   "execution_count": 75,
   "id": "6ef27699-18a2-4e9e-b41e-9500cfdebc08",
   "metadata": {},
   "outputs": [],
   "source": [
    "margin_of_error1=t_critical*(s/np.sqrt(n))"
   ]
  },
  {
   "cell_type": "code",
   "execution_count": 77,
   "id": "46a56d13-7f64-47e8-a658-efe2198abc5d",
   "metadata": {},
   "outputs": [
    {
     "data": {
      "text/plain": [
       "0.14343499804054372"
      ]
     },
     "execution_count": 77,
     "metadata": {},
     "output_type": "execute_result"
    }
   ],
   "source": [
    "margin_of_error1"
   ]
  },
  {
   "cell_type": "code",
   "execution_count": 101,
   "id": "ac842ed0-86d8-400f-87b5-5bd072547d33",
   "metadata": {},
   "outputs": [
    {
     "data": {
      "text/plain": [
       "1.095231668626123"
      ]
     },
     "execution_count": 101,
     "metadata": {},
     "output_type": "execute_result"
    }
   ],
   "source": [
    "## lower limit\n",
    "lower_limit=x_bar-margin_of_error1\n",
    "lower_limit"
   ]
  },
  {
   "cell_type": "code",
   "execution_count": 103,
   "id": "d1622620-81c8-4a6e-91d3-eb2266055177",
   "metadata": {},
   "outputs": [
    {
     "data": {
      "text/plain": [
       "1.3821016647072102"
      ]
     },
     "execution_count": 103,
     "metadata": {},
     "output_type": "execute_result"
    }
   ],
   "source": [
    "## Upper limit\n",
    "upper_limit=x_bar+margin_of_error1\n",
    "upper_limit"
   ]
  },
  {
   "cell_type": "markdown",
   "id": "237bec9d-0724-4da5-a80f-87d23e190a51",
   "metadata": {},
   "source": [
    "#### 99% confidence interval for the mean number of characters printed before the print-head fails from 1.09523 to 1.38210"
   ]
  },
  {
   "cell_type": "code",
   "execution_count": 107,
   "id": "4db095ef-94d4-4bb0-b8ed-3238809f159c",
   "metadata": {},
   "outputs": [],
   "source": [
    "## b. Build 99% Confidence Interval Using Known Population Standard Deviation"
   ]
  },
  {
   "cell_type": "code",
   "execution_count": 109,
   "id": "005e9ffd-96f7-415a-a6ca-499491e37b3f",
   "metadata": {},
   "outputs": [],
   "source": [
    "## Given data\n",
    "pop_std=0.2"
   ]
  },
  {
   "cell_type": "code",
   "execution_count": 111,
   "id": "eb410d69-ffa6-4e22-819b-e44712239feb",
   "metadata": {},
   "outputs": [],
   "source": [
    "z_critical=stats.norm.ppf(0.995)"
   ]
  },
  {
   "cell_type": "code",
   "execution_count": 113,
   "id": "6e2c22c5-af8b-4a0b-bdbb-069b74c6dd5a",
   "metadata": {},
   "outputs": [
    {
     "data": {
      "text/plain": [
       "2.5758293035489004"
      ]
     },
     "execution_count": 113,
     "metadata": {},
     "output_type": "execute_result"
    }
   ],
   "source": [
    "z_critical"
   ]
  },
  {
   "cell_type": "code",
   "execution_count": 115,
   "id": "58f494e5-2c08-4c7f-ad24-bf4a1512683b",
   "metadata": {},
   "outputs": [],
   "source": [
    "margin_of_error2=z_critical*(pop_std/np.sqrt(n))"
   ]
  },
  {
   "cell_type": "code",
   "execution_count": 117,
   "id": "9977f3b3-d656-41c8-a922-b5fc7ffb79ae",
   "metadata": {},
   "outputs": [
    {
     "data": {
      "text/plain": [
       "0.13301525327090588"
      ]
     },
     "execution_count": 117,
     "metadata": {},
     "output_type": "execute_result"
    }
   ],
   "source": [
    "margin_of_error2"
   ]
  },
  {
   "cell_type": "code",
   "execution_count": 119,
   "id": "7d1d9224-3bbb-4c2c-af08-5e51c4e952fa",
   "metadata": {},
   "outputs": [
    {
     "data": {
      "text/plain": [
       "1.1056514133957607"
      ]
     },
     "execution_count": 119,
     "metadata": {},
     "output_type": "execute_result"
    }
   ],
   "source": [
    "lower_limit=x_bar-margin_of_error2\n",
    "lower_limit"
   ]
  },
  {
   "cell_type": "code",
   "execution_count": 121,
   "id": "727a4bdd-1cfa-47df-94e4-ffc9186624c0",
   "metadata": {},
   "outputs": [
    {
     "data": {
      "text/plain": [
       "1.3716819199375725"
      ]
     },
     "execution_count": 121,
     "metadata": {},
     "output_type": "execute_result"
    }
   ],
   "source": [
    "upper_limit=x_bar+margin_of_error2\n",
    "upper_limit"
   ]
  },
  {
   "cell_type": "markdown",
   "id": "a5b38836-59df-4125-aaf3-40503609f828",
   "metadata": {},
   "source": [
    "#### 99% confidence interval for the mean number of characters printed before failure if the population standard deviation is 0.2 million characters.from 1.10565 to 1.37168"
   ]
  },
  {
   "cell_type": "code",
   "execution_count": null,
   "id": "dd9a648f-6ce8-4c90-a3be-1b03213e9787",
   "metadata": {},
   "outputs": [],
   "source": []
  }
 ],
 "metadata": {
  "kernelspec": {
   "display_name": "Python 3 (ipykernel)",
   "language": "python",
   "name": "python3"
  },
  "language_info": {
   "codemirror_mode": {
    "name": "ipython",
    "version": 3
   },
   "file_extension": ".py",
   "mimetype": "text/x-python",
   "name": "python",
   "nbconvert_exporter": "python",
   "pygments_lexer": "ipython3",
   "version": "3.12.4"
  }
 },
 "nbformat": 4,
 "nbformat_minor": 5
}
